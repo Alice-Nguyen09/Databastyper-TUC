{
  "cells": [
    {
      "cell_type": "markdown",
      "metadata": {},
      "source": [
        "DATA24HEL_DBT25/Databastyper\n",
        "# Kunskapskontroll 2\n",
        "\n",
        "Gör kurserna i den här samlingen: [https://learn.microsoft.com/en-us/collections/3140s6twkorq6z?&sharingId=A70F2DF98827F6CC](https://learn.microsoft.com/en-us/collections/3140s6twkorq6z?&sharingId=A70F2DF98827F6CC)\n",
        "\n",
        "### OBS! Du behöver __inte__ göra *exercises*!\n",
        "\n",
        "Svara på frågorna nedan. Eftersom kurserna är på engelska har jag skrivit även frågorna på engelska. Det går bra att svara på svenska eller engelska.\n"
      ]
    },
    {
      "cell_type": "markdown",
      "metadata": {},
      "source": [
        "---\n",
        "## Microsoft Azure Data Fundamentals: Explore core data concepts\n",
        "### Explore core data concepts\n",
        "#### Identify data formats\n",
        "\n",
        "❓ What data format is often represented as JSON?"
      ]
    },
    {
      "cell_type": "markdown",
      "metadata": {},
      "source": [
        "✔️ Answer:"
      ]
    },
    {
      "cell_type": "markdown",
      "metadata": {},
      "source": [
        "JSON (JavaScript Object Notation) används ofta för att representera semi-strukturerad data, eftersom det kombinerar både strukturerade och ostrukturerade element. Det är ett flexibelt format som är vanligt i webbapplikationer och molntjänster."
      ]
    },
    {
      "cell_type": "markdown",
      "metadata": {},
      "source": [
        "❓ What data format is represented in a tabular format?"
      ]
    },
    {
      "cell_type": "markdown",
      "metadata": {},
      "source": [
        "✔️ Answer:"
      ]
    },
    {
      "cell_type": "markdown",
      "metadata": {},
      "source": [
        "Dataformatet som representeras i ett tabellformat är strukturerad data.\n",
        "Det innebär att informationen organiseras i rader och kolumner, precis som i en databas eller ett Excel-ark. Exempel på sådana format är CSV, Excel-tabeller och relationsdatabaser som Microsoft SQL Server."
      ]
    },
    {
      "cell_type": "markdown",
      "metadata": {},
      "source": [
        "❓ What is the data format of images, pdf-documents and binary files called?"
      ]
    },
    {
      "cell_type": "markdown",
      "metadata": {},
      "source": [
        "✔️ Answer:"
      ]
    },
    {
      "cell_type": "markdown",
      "metadata": {},
      "source": [
        "Dataformatet för bilder, PDF-dokument och binära filer kallas ostrukturerad data.\n",
        "Detta innebär att informationen inte är organiserad i rader och kolumner som i en databas, utan istället lagras i sin ursprungliga form, exempelvis som JPEG- eller PNG-filer för bilder, PDF för dokument eller binära filer för program och multimedia. Ostrukturerad data kräver ofta specifika verktyg och tekniker för att kunna bearbetas och analyseras."
      ]
    },
    {
      "cell_type": "markdown",
      "metadata": {},
      "source": [
        "#### Explore file storage\n"
      ]
    },
    {
      "cell_type": "markdown",
      "metadata": {},
      "source": [
        "❓ Give an example of an optimized file format for structured and semi-structured data."
      ]
    },
    {
      "cell_type": "markdown",
      "metadata": {},
      "source": [
        "✔️ Answer:"
      ]
    },
    {
      "cell_type": "markdown",
      "metadata": {},
      "source": [
        "Ett exempel på ett optimerat filformat för både strukturerad och semi-strukturerad data är Parquet.\n",
        "Parquet är en kolumnorienterad filtyp som används inom BIG DATA och molnbaserade lösningar, som Azure Data Lake och Apache Spark. Det är effektivt för lagring och analys eftersom det komprimerar data väl och möjliggör snabbare sökningar jämfört med radbaserade format som CSV."
      ]
    },
    {
      "cell_type": "markdown",
      "metadata": {},
      "source": [
        "#### Explore transactional data processing\n",
        "❓ What are OLTP systems designed for?\n"
      ]
    },
    {
      "cell_type": "markdown",
      "metadata": {},
      "source": [
        "✔️ Answer:"
      ]
    },
    {
      "cell_type": "markdown",
      "metadata": {},
      "source": [
        "OLTP (Online Transaction Processing) system är designade för att hantera många snabba och korta transaktioner i realtid. Exempel på OLTP är bankstransaktioner, flygbkningar, kassa och ordersystem i buiker och restauranger. \n",
        "Syfte med OLTP-system är att\n",
        "- Hantera dagliga transaktioner i system som e-handel, banktjänster och bokningssystem.\n",
        "- Säkerställa snabb insättning, uppdatering och hämtning av data.\n",
        "- Ge hög tillgänglighet och dataintegritet genom funktioner som ACID (Atomicity, Consistency, Isolation, Durability)."
      ]
    },
    {
      "cell_type": "markdown",
      "metadata": {},
      "source": [
        "#### Explore analytical data processing\n",
        "❓ What are OLAP systems designed for?"
      ]
    },
    {
      "cell_type": "markdown",
      "metadata": {},
      "source": [
        "✔️ Answer:"
      ]
    },
    {
      "cell_type": "markdown",
      "metadata": {},
      "source": [
        "OLAP (Online Analytical Processing) system är designade för att analysera stora mängder data och stödja komplexa frågor och rapportering, ofta för beslutsstöd och dataanalys. Data warehouse är ett exempel till OLAP systemet. \n",
        "\n",
        "Syfte med OLAP-system är att\n",
        "- Möjliggöra komplexa och flerdimensionella analyser av data, som att skapa sammanfattningar, trender och rapporter.\n",
        "- Hantera stora datamängder för att ge insikter, ofta för business intelligence (BI).\n",
        "- Används för att skapa sammanfattade rapporter och analysera data på olika nivåer, t.ex. försäljning per region, tidsperiod eller produktkategori."
      ]
    },
    {
      "cell_type": "markdown",
      "metadata": {},
      "source": [
        "### Explore data roles and services\n",
        "#### Explore job roles in the world of data\n",
        "\n",
        "❓Describe some of the responsibilities of a:\n",
        "\n",
        "* Database Administrator\n",
        "* Data Engineer\n",
        "* Data Analyst"
      ]
    },
    {
      "cell_type": "markdown",
      "metadata": {},
      "source": [
        "✔️ Answer:"
      ]
    },
    {
      "cell_type": "markdown",
      "metadata": {},
      "source": [
        "En Database Administrator (DBA) ansvarar för att hantera och underhålla databaser för att säkerställa deras prestanda, säkerhet och tillgänglighet.\n",
        "\n",
        "Ansvarsområden är:\n",
        "- Databasdesign och -strukturering\n",
        "- Säkerhet\n",
        "- Backup och återställning\n",
        "- Prestandaoptimering\n",
        "- Uppdateringar och patchhantering\n",
        "\n",
        "En Data Engineer bygger och underhåller de tekniska infrastrukturerna som gör att data kan samlas in, lagras och bearbetas. De arbetar nära utvecklare och dataanalytiker för att säkerställa att data är lättillgänglig och i rätt format för analys.\n",
        "\n",
        "Ansvarsområden är:\n",
        "- Bygga och underhålla datalager \n",
        "- Dataintegration: \n",
        "- Dataflöden och ETL-processer\n",
        "- Optimera datainsamling\n",
        "\n",
        "Data Analyst\n",
        "En Data Analyst är ansvarig för att bearbeta och analysera data för att ge insikter och stödja beslutsfattande i en organisation. De använder ofta statistik, visualisering och rapporteringsverktyg för att tolka data och presentera resultat.\n",
        "\n",
        "Ansvarsområden är:\n",
        "- Datainsamling och -bearbetning\n",
        "- Statistisk analys\n",
        "- Visualisering\n",
        "- Rapportering"
      ]
    },
    {
      "cell_type": "markdown",
      "metadata": {},
      "source": [
        "---\n",
        "## Microsoft Azure Data Fundamentals: Explore relational data in Azure\n",
        "### Explore fundamental relational data concepts\n",
        "\n",
        "❓ How is relational data commonly organized?"
      ]
    },
    {
      "cell_type": "markdown",
      "metadata": {},
      "source": [
        "✔️ Answer:"
      ]
    },
    {
      "cell_type": "markdown",
      "metadata": {},
      "source": [
        "Relational data är vanligtvis organiserat i tabeller, där varje tabell består av rader och kolumner. Varje rad representerar en post (eller en instans av en enhet), och varje kolumn representerar ett attribut (eller en egenskap hos en post).\n",
        "\n",
        "Relationsdata har en kolum eller en uppsättning kolumner som unikt iddentifierar varje rad i tabellen, vilket är primärnyckel. \n",
        "Kolumen som länkar en rad i en abell till en rad i en annan tabell är främmande nyckel. \n",
        "Relationsdata har en relational integrity, vlket betyder att alla relationerna mellan tabeller är korrekta, konsekventa och upprätthålls av regler för främmande nycklar och andra integrrtetsbegränsningar.\n"
      ]
    },
    {
      "cell_type": "markdown",
      "metadata": {},
      "source": [
        "❓ What are the main reasons for normalizing relational data?"
      ]
    },
    {
      "cell_type": "markdown",
      "metadata": {},
      "source": [
        "✔️ Answer:"
      ]
    },
    {
      "cell_type": "markdown",
      "metadata": {},
      "source": [
        "De viktigaste anledningarna till att normalisera relationsdata är:\n",
        "\n",
        "Eliminera redundans:\n",
        "Normalisering hjälper till att ta bort duplicerad data, vilket minskar risken för inkonsekvenser. Om samma information finns på flera ställen i databasen och en ändring görs på ett ställe men inte på de andra, kan det leda till felaktig eller inkonsekvent data.\n",
        "\n",
        "Förbättra dataintegritet:\n",
        "Genom att normalisera data kan vi säkerställa att databasen följer regler för integritet, som att varje post har en unik identifierare (primärnyckel) och att relaterad data är korrekt länkad (genom främmande nycklar). Detta gör att data är mer pålitlig och korrekt.\n",
        "\n",
        "Minska uppdateringsanomalier:\n",
        "Om data är duplicerad kan det leda till problem när det gäller att uppdatera eller ta bort information. Med normalisering kan vi se till att varje bit information bara behöver uppdateras på ett ställe, vilket minskar risken för inkonsekvenser vid uppdatering.\n",
        "\n",
        "Effektivisera lagring:\n",
        "Genom att eliminera redundans sparar man utrymme i databasen. En normaliserad databas är ofta mer effektiv när det gäller lagring, eftersom man undviker att lagra samma information flera gånger.\n",
        "\n",
        "Förenkla dataunderhåll:\n",
        "Med normalisering blir det lättare att underhålla databasen. När informationen är organiserad på ett logiskt och konsekvent sätt blir det enklare att hantera, ändra och uppdatera."
      ]
    },
    {
      "cell_type": "markdown",
      "metadata": {},
      "source": [
        "### Explore relational database services in Azure\n",
        "\n",
        "❓ Which of the Azure SQL services requires you to manage configuration, backups, and other maintenance tasks yourself?"
      ]
    },
    {
      "cell_type": "markdown",
      "metadata": {},
      "source": [
        "✔️ Answer:"
      ]
    },
    {
      "cell_type": "markdown",
      "metadata": {},
      "source": [
        "Den Azure SQL-tjänst som kräver att du hanterar konfiguration, säkerhetskopior och andra underhållsuppgifter själv är Azure SQL Database Managed Instance i sin standardutgåva eller IaaS-variant.\n",
        "\n",
        "Med Azure SQL Managed Instance får man mer kontroll över databasmiljön, vilket innebär att man själv ansvarar för uppgifter som konfiguration, säkerhetskopiering, patchhantering och andra underhållsåtgärder.\n",
        "Denna tjänst är unikt för du som vill ha fullständig kontroll över underhåll, är Azure SQL Managed Instance det alternativet som kräver att du tar ansvar för mer av konfigurationen och underhållet själv."
      ]
    },
    {
      "cell_type": "markdown",
      "metadata": {},
      "source": [
        "---\n",
        "## Microsoft Azure Data Fundamentals: Explore non-relational data in Azure\n",
        "### Explore Azure blob storage\n",
        "\n",
        "❓ What are the three types of blob that Azure Blob Storage supports?"
      ]
    },
    {
      "cell_type": "markdown",
      "metadata": {},
      "source": [
        "✔️ Answer:"
      ]
    },
    {
      "cell_type": "markdown",
      "metadata": {},
      "source": [
        "Azure Blob Storage stödjer tre typer av blob:\n",
        "\n",
        "Block blobs: \n",
        "som designade för att lagra stora mängder ostrukturerad data, som bilder, videor och dokument. De delas upp i block, och varje block kan laddas upp separat, vilket gör det effektivt för hantering av stora filer.\n",
        "\n",
        "Append blobs: \n",
        "som används för att lagra data som ska läggas till i slutet av filen, exempelvis loggfiler. Den här typen av blob är optimerad för att skriva till slutet av en blob utan att behöva modifiera befintlig data.\n",
        "\n",
        "Page blobs: \n",
        "som är optimerade för att hantera stora filer som ofta uppdateras, exempelvis virtuella diskar (VHD). De lagrar data i \"sidor\" och gör det effektivt att läsa och skriva till specifika delar av filen, vilket gör dem bra för applikationer som kräver snabb åtkomst och förändringar.\n"
      ]
    },
    {
      "cell_type": "markdown",
      "metadata": {},
      "source": [
        "### Explore fundamentals of Azure Cosmos DB\n",
        "#### Describe Azure Cosmos DB\n",
        "\n",
        "❓ Which data storage scenarios are Azure Cosmos DB suitable for? "
      ]
    },
    {
      "cell_type": "markdown",
      "metadata": {},
      "source": [
        "✔️ Answer:"
      ]
    },
    {
      "cell_type": "markdown",
      "metadata": {},
      "source": [
        "Några typiska databaslagringsscenarier där Azure Cosmos DB är lämplig för är:\n",
        "\n",
        "Globala applikationer: \n",
        "Azure Cosmos DB är utformad för att distribuera data till flera regioner, vilket gör det perfekt för applikationer som behöver ge snabb åtkomst till data oavsett var användarna befinner sig globalt.\n",
        "\n",
        "Multimodellapplikationer:\n",
        "Eftersom Azure Cosmos DB stödjer flera datamodeller, såsom dokumentdatabaser (MongoDB, JSON), nyckel-värdepar (Redis), grafdatabaser (Gremlin) och kolumnfamiljer (Cassandra), är den idealisk för applikationer som behöver lagra olika typer av data i en enda databas.\n",
        "\n",
        "IoT och realtidsanalys:\n",
        "För applikationer som samlar in och analyserar stora mängder data i realtid (t.ex. från sensorer och enheter) är Cosmos DB bra eftersom den hanterar stora datamängder och kan bearbeta dem med låg latens.\n",
        "\n",
        "E-handel och kundinteraktioner:\n",
        "För e-handelsplattformar eller applikationer som hanterar sessionstillstånd eller anpassade användarupplevelser i realtid, är Cosmos DB effektivt för att ge skala och hög tillgänglighet.\n",
        "\n",
        "Finansiella tjänster och betalningar:\n",
        "Eftersom Azure Cosmos DB har starka garantier för tillgänglighet och konsistens (t.ex. med hjälp av tolerans för partitioner och olika konsistensmodeller), passar det bra för användningsfall inom finansiella tjänster där transaktioner och data måste vara exakt och tillgängliga globalt.\n",
        "\n",
        "Gaming och applikationer med hög transaktionsvolym:\n",
        "För spel och andra realtidsapplikationer som kräver hög genomströmning och låg latens, är Cosmos DB en bra lösning för att hantera användardata, sessioner och spelets interna tillstånd.\n"
      ]
    },
    {
      "cell_type": "markdown",
      "metadata": {},
      "source": [
        "#### Identify Azure Cosmos DB API\n",
        "\n",
        "❓ With Azure Cosmos DB for NoSQL you can use SQL syntax to make queries to a NoSQL database, but how are the results formatted?"
      ]
    },
    {
      "cell_type": "markdown",
      "metadata": {},
      "source": [
        "✔️ Answer:"
      ]
    },
    {
      "cell_type": "markdown",
      "metadata": {},
      "source": [
        "När man använder Azure Cosmos DB for NoSQL och skriver SQL-frågor för att göra förfrågningar till en NoSQL-databas, returneras resultaten i JSON-format."
      ]
    },
    {
      "cell_type": "markdown",
      "metadata": {},
      "source": [
        "---\n",
        "## Explore fundamentals of large-scale analytics\n",
        "### Explore analytical data stores\n"
      ]
    },
    {
      "cell_type": "markdown",
      "metadata": {},
      "source": [
        "\n",
        "❓ What kind of analytical data store should you choose when you have structured data?"
      ]
    },
    {
      "cell_type": "markdown",
      "metadata": {},
      "source": [
        "När man har strukturerad data kan man använda ett relationsbaserat datalager som är optimerat för analys. Ett vanligt val i Azure är Azure Synapse Analytics (tidigare Azure SQL Data Warehouse) som är lämpligt för stora volymer av strukturerad data. Fördelar med Azure Synapse Analytics är att det optimerar för Online Analytical Processing (OLAP) och data warehousing. Det ger också möjlighet att köra stora och parallella frågebearbetningar (MPP) för snabba analyser av stora dataset. Det integrerar med Power BI, Azure Data Factory och även andra analysvertyger. \n",
        "\n",
        "Det finns också andra analys som man kan också välja:\n",
        "- Azure SQL Database – om man behöver en mer transaktionsorienterad relationsdatabas, men inte lika optimerad för storskalig analys.\n",
        "- Azure Data Lake – Om man hanterar mycket stora dataset men fortfarande behöver strukturerad datahantering tillsammans med semi-strukturerad data."
      ]
    },
    {
      "cell_type": "markdown",
      "metadata": {},
      "source": [
        "❓ What kind of analytical data store should you choose when you have a mix of structured, semi-structured and unstructured data?"
      ]
    },
    {
      "cell_type": "markdown",
      "metadata": {},
      "source": [
        "✔️ Answer:"
      ]
    },
    {
      "cell_type": "markdown",
      "metadata": {},
      "source": [
        "När ma har en blandning av strukturerad, semi-strukturerad och ostrukturerad data, kan man välja ett datamagasin som kan hantera alla dessa typer av data effektivt. Bästa valet i Azure är Azure Data Lake Storage (ADLS) som är lämpligt för hantering av stora mängder strukturerad, semi-strukturerad och ostrukturerad data.\n",
        "Fördelar med Azure Data Lake Storage är att det kan lagra alla typer av data (CSV, JSON, Parquet, bilder, video, loggfiler m.m.). Byggt för big data-analyser och kan integreras med Azure Synapse Analytics, Azure Databricks, Power BI och ML-tjänster. Stödjer Hadoop, Spark och andra big data-verktyg för avancerad analys.\n",
        "\n",
        "Man kan också välja:  \n",
        "- Azure Synapse Analytics – Om analys huvudsakligen fokuserar på strukturerad och semi-strukturerad data, kan man  kombinera Synapse med Data Lake för att hantera ostrukturerad data.\n",
        "- Azure Cosmos DB – Om man behöver global distribution och realtidsbearbetning av semi-strukturerad data i JSON-format.\n",
        "- Azure Blob Storage – För rena lagringsändamål av ostrukturerad data, men utan samma analyskapacitet som Data Lake."
      ]
    },
    {
      "cell_type": "markdown",
      "metadata": {},
      "source": [
        "❓ What is a hybrid data store that combines features of data lakes and data warehouses called?"
      ]
    },
    {
      "cell_type": "markdown",
      "metadata": {},
      "source": [
        "✔️ Answer:"
      ]
    },
    {
      "cell_type": "markdown",
      "metadata": {},
      "source": [
        "Ett hybrid data store som kombinerar funktioner från både data lakes och data warehouses kallas för ett Lakehouse.\n",
        "\n",
        "Ett Lakehouse är en kombination av ett datalager (data warehouse) och en data lake. Det ger både den flexibla lagringen och hanteringen av ostrukturerad och semi-strukturerad data från en data lake, samtidigt som det erbjuder den strukturerade hanteringen, transaktionsstödet och prestandan från ett traditionellt data warehouse."
      ]
    },
    {
      "cell_type": "markdown",
      "metadata": {},
      "source": [
        "---\n",
        "## Store Data in Azure\n",
        "### Choose a data storage apporach in Azure\n",
        "#### Classify your data"
      ]
    },
    {
      "cell_type": "markdown",
      "metadata": {},
      "source": [
        "❓ How is business data classified?"
      ]
    },
    {
      "cell_type": "markdown",
      "metadata": {},
      "source": [
        "✔️ Answer:\n"
      ]
    },
    {
      "cell_type": "markdown",
      "metadata": {},
      "source": [
        "Affärsdata (business data) klassificeras vanligtvis i olika kategorier baserat på känslighet, användningsområde och regleringskrav. De vanligaste klassificeringarna är:\n",
        "\n",
        "1. Offentlig data (Public Data) som används oftast för företagets webbplatsinformation, marknadsföringsmaterial, pressmeddelanden. Offentlig data kan delas offentligt utan risk.\n",
        "\n",
        "2. Intern data (Internal Data) som används oftast för företagspolicies, intern e-post, interna rapporter.\n",
        "Det kan delas endast för internt bruk inom organisationen.\n",
        "\n",
        "3. Känslig data (Sensitive Data) som används oftast för kundlistor, leverantörsavtal, finansiella rapporter.\n",
        "Känslig data kan endast dela för vissa anställda och skyddad av säkerhetspolicyer.\n",
        "\n",
        "4. Konfidentiell data (Confidential Data) som används för löneuppgifter, personuppgifter (PII), immateriella rättigheter. En hög risk finns om den läcker kan det skada företaget eller bryta mot lagar.\n",
        "\n",
        "5. Skyddad data (Regulated Data) som används för kreditkortsinformation (PCI DSS), patientjournaler (GDPR, HIPAA).\n",
        "Skyddad data måste följa strikta lagkrav och säkerhetsåtgärder."
      ]
    },
    {
      "cell_type": "markdown",
      "metadata": {},
      "source": [
        "\n",
        "❓ How is data for a product catalog classified?"
      ]
    },
    {
      "cell_type": "markdown",
      "metadata": {},
      "source": [
        "✔️ Answer:\n"
      ]
    },
    {
      "cell_type": "markdown",
      "metadata": {},
      "source": [
        "Data för en produktkatalog klassificeras vanligtvis som:\n",
        "\n",
        "1. Offentlig data (Public Data): Data som kan delas offentligt utan risk.\n",
        "\n",
        "2. Intern data (Internal Data): Information som endast används internt inom företaget.\n",
        "\n",
        "3. Känslig data (Sensitive Data): Data som inte är offentlig och kan påverka konkurrenskraften.\n",
        "\n",
        "4. Skyddad data (Regulated Data) (Om tillämpligt): Data som omfattas av lagkrav och regleringar.\n"
      ]
    },
    {
      "cell_type": "markdown",
      "metadata": {},
      "source": [
        "❓ How is data representing photos and videos classified?"
      ]
    },
    {
      "cell_type": "markdown",
      "metadata": {},
      "source": [
        "✔️ Answer:\n"
      ]
    },
    {
      "cell_type": "markdown",
      "metadata": {},
      "source": [
        " Data som representerar foton och videor klassificeras beroende på dess innehåll, användningsområde och känslighet. \n",
        " \n",
        "  Vanliga klassificeringar inkluderar:\n",
        "\n",
        "1. Offentlig data (Public Data) som kan delas fritt utan risk. \n",
        "\n",
        "2. Intern data (Internal Data) som kan används endast för internt bruk.\n",
        "\n",
        "3. Känslig data (Sensitive Data) som om informationen läcker kan det påverka förettagets strategi eller konkurrenskraft. \n",
        "\n",
        "4. Konfidentiell data (Confidential Data) som är begränsad till specifika personer med strikt säkerhetsskydd.\n",
        "\n",
        "5. Skyddad data (Regulated Data) som omfattas ooftast av lagkrav. Måste hanteras enligt lagar som GDPR, HIPAA, PCI DSS beroende på innehållet."
      ]
    },
    {
      "cell_type": "markdown",
      "metadata": {},
      "source": [
        "#### Group multiple operations in a transaction\n",
        "\n",
        "❓ What is ACID?"
      ]
    },
    {
      "cell_type": "markdown",
      "metadata": {},
      "source": [
        "✔️ Answer:\n"
      ]
    },
    {
      "cell_type": "markdown",
      "metadata": {},
      "source": [
        "ACID är en uppsättning egenskaper som garanterar pålitlighet och integritet i databastransaktioner. Det står för:\n",
        "\n",
        "1. Atomicity (Atomäritet)\n",
        "\n",
        "Allt eller inget – En transaktion är antingen fullständigt genomförd eller inte alls.\n",
        " \n",
        " Exempel: Om du överför pengar mellan två konton måste både uttaget från konto A och insättningen på konto B ske, annars ska transaktionen rullas tillbaka.\n",
        "\n",
        "2. Consistency (Konsistens)\n",
        "\n",
        "Databasen förblir i ett giltigt tillstånd – Efter en transaktion måste databasen vara i en korrekt och giltig form enligt regler och begränsningar.\n",
        "\n",
        "Exempel: En banköverföring får inte skapa negativa saldon om det inte är tillåtet enligt databasschemat.\n",
        "\n",
        "3. Isolation (Isolering)\n",
        "\n",
        " Transaktioner påverkar inte varandra – Pågående transaktioner exekveras oberoende av varandra och får inte leda till inkonsekventa data.\n",
        "\n",
        "Exempel: Om två personer försöker boka samma flygbiljett samtidigt, ska bara en bokning gå igenom, inte båda.\n",
        "\n",
        "4. Durability (Beständighet)\n",
        "\n",
        "Data förloras inte vid krascher – När en transaktion är bekräftad och genomförd, ska data vara permanent sparad, även vid strömavbrott eller systemfel.\n",
        "\n",
        " Exempel: Om ett köp har slutförts i en e-handel, ska beställningen fortfarande finnas kvar även om servern startas om.\n"
      ]
    },
    {
      "cell_type": "markdown",
      "metadata": {},
      "source": [
        "❓ Which of the three datasets (product catalog, photos and videos, business data) is transactional?"
      ]
    },
    {
      "cell_type": "markdown",
      "metadata": {},
      "source": [
        "✔️ Answer:\n"
      ]
    },
    {
      "cell_type": "markdown",
      "metadata": {},
      "source": [
        "Av de tre dataseten är business data mest sannolikt transaktionellt.\n",
        "\n",
        "Affärsdata (business data) innehåller ofta transaktioner, t.ex. köp, fakturor, betalningar och lagerförändringar.\n",
        "Dessa operationer kräver ACID-egenskaper (Atomicity, Consistency, Isolation, Durability) för att säkerställa att affärstransaktioner är korrekta och pålitliga.\n",
        "\n",
        "\n",
        "\n",
        "\n",
        "\n",
        "\n",
        "\n"
      ]
    },
    {
      "cell_type": "markdown",
      "metadata": {},
      "source": [
        "#### Choose a storage solution in Azure"
      ]
    },
    {
      "cell_type": "markdown",
      "metadata": {},
      "source": [
        "❓ What is the recommended service for a semi-structured dataset that needs a high number of both read and write operations?"
      ]
    },
    {
      "cell_type": "markdown",
      "metadata": {},
      "source": [
        "✔️ Answer:\n"
      ]
    },
    {
      "cell_type": "markdown",
      "metadata": {},
      "source": [
        "Den rekommenderade tjänsten för ett semi-strukturerat dataset som kräver hög prestanda för både läs- och skrivoperationer är:\n",
        " Azure Cosmos DB\n",
        "- Hanterar semi-strukturerad data (t.ex. JSON, dokument, nyckel-värde, grafer).\n",
        "- Hög skalbarhet – Kan hantera stora mängder läs- och skrivoperationer globalt.\n",
        "- Låg latens – Snabba svarstider för både läs- och skrivoperationer.\n",
        "- Multi-modellstöd – Stöd för NoSQL-databaser (dokument, graf, nyckel-värde, kolumnfamilj).\n",
        "- Automatisk skalning – Justerar kapacitet efter behov.\n",
        "\n"
      ]
    },
    {
      "cell_type": "markdown",
      "metadata": {},
      "source": [
        "❓ What is the recommended service for a structured dataset that will be used for analytical purposes only?"
      ]
    },
    {
      "cell_type": "markdown",
      "metadata": {},
      "source": [
        "✔️ Answer:\n"
      ]
    },
    {
      "cell_type": "markdown",
      "metadata": {},
      "source": [
        "Den rekommenderade tjänsten för ett strukturerat dataset som endast används för analytiska ändamål är:\n",
        "Azure Synapse Analytics\n",
        "\n",
        "- Optimerad för analys – Designad för storskalig dataanalys och rapportering.\n",
        "- Massiv parallellbearbetning (MPP) – Möjliggör snabba analyser på stora datamängder.\n",
        "- Integration med Power BI och Azure Machine Learning – Enkel koppling för visualisering och avancerad analys.\n",
        "- Stöd för SQL – Kör SQL-frågor på strukturerad data effektivt.\n",
        "- Data Warehouse-funktionalitet – Perfekt för att hantera och analysera historiska data.\n",
        "\n"
      ]
    },
    {
      "cell_type": "markdown",
      "metadata": {},
      "source": [
        "### Create an Azure Storage Account\n",
        "#### Decide how many storage accounts you need"
      ]
    },
    {
      "cell_type": "markdown",
      "metadata": {},
      "source": [
        "❓ What is the difference between Hot and Cold access tiers?"
      ]
    },
    {
      "cell_type": "markdown",
      "metadata": {},
      "source": [
        "✔️ Answer:"
      ]
    },
    {
      "cell_type": "markdown",
      "metadata": {},
      "source": [
        "Hot och Cold access tiers i Azure Blob Storage är två olika lagringsalternativ som används för att optimera kostnader och prestanda baserat på hur ofta data används. \n",
        "\n",
        "Hot Access Tier (Hög åtkomst) som används för webbapplikationer, transaktionsdata, realtidsanalyser. Denna lagringsalternativ används för data som behöver snabb åtkomst. Högre lagringskostnad per GB jämfört med Cold-tier, men lägre kostnad för åtkomst.\n",
        "\n",
        "Cold Access Tier (Låg åtkomst) används för data som inte behöver snabb åtkomst exempelvis arkiverad data, säkerhetskopior och historiska data.\n",
        "Kostnaden är lägre lagringskostnad per GB, men högre kostnad för åtkomst (långsammare att hämta).\n"
      ]
    },
    {
      "cell_type": "markdown",
      "metadata": {},
      "source": [
        "#### Choose your account settings"
      ]
    },
    {
      "cell_type": "markdown",
      "metadata": {},
      "source": [
        "❓ When creating an Azure Storage Account, which deployment model should you choose?"
      ]
    },
    {
      "cell_type": "markdown",
      "metadata": {},
      "source": [
        "✔️ Answer:\n"
      ]
    },
    {
      "cell_type": "markdown",
      "metadata": {},
      "source": [
        "Azure Resource Manager (ARM) är den modellen som rekomenderas att använda. \n",
        "\n",
        "Azure Resource Manager är den moderna och rekommenderade modellen för hantering av Azure-resurser. Den erbjuder centraliserad hantering av resurser, vilket gör det lättare att hantera, organisera och övervaka dina resurser.\n",
        "Fördelar med modellen är:\n",
        "\n",
        "- Hantera resurser som grupper: Du kan hantera hela resurssätt i grupper.\n",
        "- Bättre säkerhet och åtkomstkontroll: Med hjälp av Azure Active Directory (AAD) kan du ställa in specifika åtkomstbehörigheter.\n",
        "- Förbättrad automation och DevOps: ARM-stöder infrastruktur som kod, vilket gör det lättare att automatisera skapande och hantering av resurser.\n",
        "- Taggning och organisering: Du kan använda taggar för att organisera resurser på ett effektivt sätt.\n",
        "- Stöd för flera regioner: Lätt att konfigurera för att säkerställa hög tillgänglighet och redundans över flera geografiska platser."
      ]
    },
    {
      "cell_type": "markdown",
      "metadata": {},
      "source": [
        "#### Choose an account creation tool"
      ]
    },
    {
      "cell_type": "markdown",
      "metadata": {},
      "source": [
        "❓ The most commonly used account creation tool is the Azure Portal. Why?"
      ]
    },
    {
      "cell_type": "markdown",
      "metadata": {},
      "source": [
        "✔️ Answer:\n"
      ]
    },
    {
      "cell_type": "markdown",
      "metadata": {},
      "source": [
        " Azure Portal är den mest använd verktyg eftersom \n",
        "\n",
        "1. Användarvänlighet\n",
        "\n",
        "Grafiskt gränssnitt: Azure Portal erbjuder ett användarvänligt grafiskt gränssnitt som gör det enkelt för både nybörjare och erfarna användare att skapa, konfigurera och hantera resurser utan att behöva skriva kod eller kommandon.\n",
        "Intuitiv navigering: Den är designad för att vara lätt att förstå och navigera, vilket gör processen för att skapa ett Storage-konto snabb och smidig.\n",
        "\n",
        "2. All-in-One-plattform\n",
        "\n",
        "Centraliserad hantering: Azure Portal låter användare hantera alla Azure-tjänster och resurser från en och samma plattform. Du kan skapa, konfigurera, övervaka och utföra andra operationer på dina resurser utan att behöva växla mellan olika verktyg.\n",
        "Visualisering: Du kan enkelt visualisera resursanvändning och få tillgång till detaljerad information om dina lagringskonton och andra resurser.\n",
        "\n",
        "3. Real-time feedback och validering\n",
        "\n",
        "Direkt validering av inställningar: När du skapar ett konto i Azure Portal, får du direkt feedback om eventuella fel eller saknade inställningar, vilket minskar risken för att göra misstag.\n",
        "Guided setup: Azure Portal erbjuder steg-för-steg-vägledning för att hjälpa användare att skapa konton och konfigurera inställningar korrekt.\n",
        "\n",
        "4. Integration med andra Azure-tjänster\n",
        "\n",
        "Enkel integration: Eftersom Azure Portal är en del av Azure-ekosystemet, är det lätt att integrera och konfigurera olika tjänster (t.ex. säkerhetsinställningar, nätverk, identitetshantering) för ditt Storage-konto direkt från portalen.\n",
        "\n",
        "5. Anpassning och automatisering\n",
        "\n",
        "Stöd för automatisering: Azure Portal gör det möjligt att skapa och konfigurera resurser manuellt, men den kan också användas i kombination med andra verktyg som Azure CLI och Azure PowerShell för att automatisera skapandet och hanteringen av resurser.\n"
      ]
    },
    {
      "cell_type": "markdown",
      "metadata": {},
      "source": [
        "### Secure your Azure Storage account\n",
        "#### Explore Azure Storage security features"
      ]
    },
    {
      "cell_type": "markdown",
      "metadata": {},
      "source": [
        "❓ How do you disable encryption at rest?"
      ]
    },
    {
      "cell_type": "markdown",
      "metadata": {},
      "source": [
        "✔️ Answer:\n"
      ]
    },
    {
      "cell_type": "markdown",
      "metadata": {},
      "source": [
        "Azure Storage har standardkryptering vid vila (encryption at rest) aktiverad som en säkerhetsfunktion för att skydda din data. Det går inte att helt inaktivera kryptering vid vila i Azure Storage-konton, eftersom kryptering är obligatorisk för att säkerställa att all data som lagras i Azure är skyddad.\n",
        "\n",
        "Azure Storage-konton använder Microsofts standardkryptering (Azure Storage Service Encryption, SSE) som är aktiverad som standard. Du kan inte stänga av den men kan välja olika alternativ för hur krypteringen hanteras:\n",
        "Använd kundhanterade nycklar (CMK) istället för de standardnycklar som tillhandahålls av Microsoft. Detta ger dig mer kontroll över krypteringsnycklarna och hur de används.\n"
      ]
    },
    {
      "cell_type": "markdown",
      "metadata": {},
      "source": [
        "❓ What happens if you require *secure transfer* for your storage account?"
      ]
    },
    {
      "cell_type": "markdown",
      "metadata": {},
      "source": [
        "✔️ Answer:\n"
      ]
    },
    {
      "cell_type": "markdown",
      "metadata": {},
      "source": [
        "När du kräver säker överföring för ditt Azure Storage-konto, betyder det att bara säkra anslutningar via HTTPS tillåts för åtkomst till lagringskontot. Här är vad som händer:\n",
        "\n",
        "1. Endast HTTPS-anslutningar tillåts\n",
        "\n",
        "Alla begärningar till lagringskontot måste göras med HTTPS, vilket innebär att data krypteras under överföring.\n",
        "Om någon försöker göra en begäran med HTTP, kommer den att nekas. Endast säkra HTTPS-anslutningar tillåts.\n",
        "\n",
        "2. Förbättrad säkerhet\n",
        "\n",
        "Genom att kräva säker överföring förhindrar du att data överförs i klartext, vilket skyddar den från avlyssning, manipulation eller andra säkerhetshot under transport.\n",
        "Detta är särskilt viktigt för att skydda känslig eller konfidentiell information.\n",
        "\n",
        "3. Kompatibilitetsöverväganden\n",
        "\n",
        "Om du aktiverar säker överföring måste alla applikationer och tjänster som försöker ansluta till lagringskontot stödja HTTPS. Om en äldre applikation bara använder HTTP kan den inte längre komma åt lagringskontot utan att uppdateras för att stödja HTTPS.\n",
        "\n",
        "4. Uppfyller efterlevnad och säkerhetskrav\n",
        "\n",
        "Säker överföring hjälper dig att uppfylla krav på säkerhet och efterlevnad, till exempel GDPR, HIPAA eller PCI-DSS, som kräver att data ska vara skyddad under överföring.\n",
        "Sammanfattning"
      ]
    },
    {
      "cell_type": "markdown",
      "metadata": {},
      "source": [
        "❓ What is CORS?"
      ]
    },
    {
      "cell_type": "markdown",
      "metadata": {},
      "source": [
        "✔️ Answer:\n"
      ]
    },
    {
      "cell_type": "markdown",
      "metadata": {},
      "source": [
        "CORS (Cross-Origin Resource Sharing) är en säkerhetsmekanism som gör det möjligt för webbläsare att begära resurser från en annan domän än den ursprungliga, det vill säga en cross-origin begäran. Detta används ofta för att möjliggöra webbapplikationer att hämta data eller resurser från olika domäner eller servrar.\n",
        "\n",
        "När en webbläsare gör en begäran till en server (t.ex. för att hämta data från en API) på en annan domän än den ursprungliga (där webbplatsen är värd), skickas en preflight-begäran (en OPTIONS-begäran) till servern för att kontrollera om den tillåter att begäran görs från en annan ursprung (domän).\n",
        "\n",
        "Servern svarar med en CORS-header, som berättar webbläsaren om den aktuella domänen får tillgång till resurser på servern. Om servern tillåter åtkomst, kommer den riktiga begäran att genomföras.\n",
        "\n"
      ]
    },
    {
      "cell_type": "markdown",
      "metadata": {},
      "source": [
        "❓ Which Azure service can you use to audit accesses to your data?"
      ]
    },
    {
      "cell_type": "markdown",
      "metadata": {},
      "source": [
        "✔️ Answer:\n"
      ]
    },
    {
      "cell_type": "markdown",
      "metadata": {},
      "source": [
        "För att revidera åtkomst till din data i Azure kan du använda Azure Monitor och Azure Storage logs. \n",
        "\n",
        "1. Azure Monitor\n",
        "\n",
        "Azure Monitor ger dig möjlighet att samla in och analysera loggar, inklusive åtkomstloggar till dina Azure-resurser. Du kan skapa anpassade regler och aviseringar för att övervaka specifika händelser eller ändringar i åtkomstmönster.\n",
        "Audit Logs: Du kan använda Activity Logs i Azure Monitor för att granska och övervaka åtgärder som görs på dina Azure-resurser, inklusive användartillgång, ändringar och andra administrativa åtgärder.\n",
        "\n",
        "2. Azure Storage Account Logs (Diagnostic Logs)\n",
        "\n",
        "För lagringstjänster (som Blob Storage) kan du aktivera diagnostikloggar för att övervaka och auditering åtkomst till lagrade data. Det här kan ge detaljerad information om läs-, skriv- och raderingsoperationer utförda på dina blobbar, filer eller köer.\n",
        "Du kan samla dessa loggar i Azure Log Analytics för vidare analys och skapa anpassade rapporter om åtkomsthändelser.\n",
        "\n",
        "3. Azure Active Directory (Azure AD) Logs\n",
        "\n",
        "Om du använder Azure Active Directory för att hantera autentisering och auktorisering av användare kan du också granska Azure AD Sign-in Logs. Här kan du se vilka användare som försökte komma åt dina resurser och om autentiseringen lyckades eller misslyckades.\n",
        "\n",
        "4. Azure Security Center\n",
        "\n",
        "Azure Security Center hjälper till att identifiera och övervaka säkerhetsrisker och kan ge insikter om eventuella obehöriga åtkomstförsök eller andra säkerhetsrelaterade händelser.\n"
      ]
    },
    {
      "cell_type": "markdown",
      "metadata": {},
      "source": [
        "#### Understand storage account keys"
      ]
    },
    {
      "cell_type": "markdown",
      "metadata": {},
      "source": [
        "❓ Which authentication option is the best for Blob and Queue storage?"
      ]
    },
    {
      "cell_type": "markdown",
      "metadata": {},
      "source": [
        "✔️ Answer:\n"
      ]
    },
    {
      "cell_type": "markdown",
      "metadata": {},
      "source": [
        "För Blob Storage och Queue Storage i Azure, är det bästa autentiseringsalternativet Azure Active Directory (Azure AD) autentisering för mer säkerhet och hantering av åtkomstkontroll. \n",
        "\n",
        "1. Azure Active Directory (Azure AD) Authentication:\n",
        "\n",
        "Detta är den mest rekommenderade autentiseringsmetoden när du vill ha centraliserad och säker hantering av användartillgång och -behörigheter.\n",
        "Med Azure AD kan du använda rollbaserad åtkomstkontroll (RBAC) för att tilldela specifika behörigheter till användare och applikationer.\n",
        "\n",
        "2. Shared Access Signatures (SAS):\n",
        "\n",
        "En annan populär metod är Shared Access Signatures (SAS), som ger begränsad åtkomst till specifika resurser under en viss tidsperiod.\n",
        "SAS är bra för scenarier där du behöver ge åtkomst till specifika användare eller tjänster utan att dela ditt lagringskontos primära nyckel.\n",
        "Men det ger inte samma nivå av central hantering som Azure AD och är inte lika säkert, eftersom den som har SAS-länken kan få åtkomst till data tills den går ut eller återkallas.\n",
        "\n",
        "3. Storage Account Keys:\n",
        "\n",
        "Lagringskontonycklar ger fullständig åtkomst till alla resurser inom ett lagringskonto. Detta alternativ används ofta för mindre känsliga applikationer, men är inte det bästa ur säkerhetssynpunkt eftersom det innebär att hela lagringskontot kan nås.\n",
        "Det är inte att rekommendera att dela eller använda lagringskontonycklar för åtkomst till Blob eller Queue Storage i större applikationer.\n",
        "\n",
        "\n",
        "\n",
        "\n",
        "\n",
        "\n",
        "\n",
        "\n"
      ]
    },
    {
      "cell_type": "markdown",
      "metadata": {},
      "source": [
        "#### Understand shared access signatures (SAS)"
      ]
    },
    {
      "cell_type": "markdown",
      "metadata": {},
      "source": [
        "❓ What are the two levels of SAS?"
      ]
    },
    {
      "cell_type": "markdown",
      "metadata": {},
      "source": [
        "✔️ Answer:\n"
      ]
    },
    {
      "cell_type": "markdown",
      "metadata": {},
      "source": [
        "De två nivåerna av Shared Access Signatures (SAS) är:\n",
        "\n",
        "1. Account-level SAS:\n",
        "\n",
        "En account-level SAS ger åtkomst till hela lagringskontot och dess resurser (som Blob, File, Queue, Table).\n",
        "Denna typ av SAS kan ge åtkomst till flera olika resurser inom kontot, till exempel Blob Storage och Queue Storage, under en definierad tidsperiod.\n",
        "Den används när du vill ge åtkomst till många resurser i ett lagringskonto utan att specificera individuella resurser.\n",
        "\n",
        "2. Service-level SAS:\n",
        "\n",
        "En service-level SAS ger åtkomst till specifika resurser inom en viss tjänst i lagringskontot, såsom Blob Storage, Queue Storage, Table Storage, eller File Storage.\n",
        "Den här nivån är mer granular, eftersom du kan definiera exakt vilken resurs och vilken typ av operationer (läs, skriv, ta bort, etc.) som är tillåtna.\n",
        "Den används när du vill ge åtkomst till endast en viss tjänst eller resurs (t.ex. en specifik blob) inom lagringskontot."
      ]
    },
    {
      "cell_type": "markdown",
      "metadata": {},
      "source": [
        "#### Control network access to your storage account"
      ]
    },
    {
      "cell_type": "markdown",
      "metadata": {},
      "source": [
        "❓ What must you do before you change the default network access action from *grant* to *deny*?"
      ]
    },
    {
      "cell_type": "markdown",
      "metadata": {},
      "source": [
        "✔️ Answer:\n"
      ]
    },
    {
      "cell_type": "markdown",
      "metadata": {},
      "source": [
        "Innan du ändrar den standardnätverksåtkomståtgärden från \"grant\" (tillåt) till \"deny\" (neka) för ett lagringskonto, måste du säkerställa att det finns åtminstone en regel som tillåter åtkomst till lagringskontot. Om du ändrar till \"deny\" utan en regel som explicit tillåter åtkomst, kan du oavsiktligt blockera all åtkomst till lagringskontot och göra det otillgängligt.\n",
        "\n",
        "Vad du måste göra innan du ändrar till \"deny\":\n",
        "Skapa en nätverksregel som tillåter åtkomst: Se till att du har en tillåten regel konfigurerad för specifika nätverk, IP-intervall eller virtuella nätverk som behöver åtkomst till lagringskontot.\n",
        "\n",
        "Du kan specificera IP-adressintervall eller virtuella nätverk som är tillåtna att komma åt lagringskontot.\n",
        "Testa regeln: Verifiera att åtkomstregeln fungerar korrekt innan du gör ändringen till \"deny\". Detta är för att säkerställa att du inte oavsiktligt låser ut dig från lagringskontot.\n",
        "\n",
        "Applicera ändringen: När du har bekräftat att åtkomstregeln fungerar som den ska, kan du ändra standardåtgärden till \"deny\" för alla andra nätverk som inte explicit tillåts.\n",
        "\n",
        "\n"
      ]
    },
    {
      "cell_type": "markdown",
      "metadata": {},
      "source": [
        "### Store application data with Azure Blob Storage\n",
        "#### What are blobs?"
      ]
    },
    {
      "cell_type": "markdown",
      "metadata": {},
      "source": [
        "❓ What kind of data can't be stored as a blob?"
      ]
    },
    {
      "cell_type": "markdown",
      "metadata": {},
      "source": [
        "✔️ Answer:\n"
      ]
    },
    {
      "cell_type": "markdown",
      "metadata": {},
      "source": [
        "Data som inte kan lagras som en blob i Azure Blob Storage inkluderar:\n",
        "\n",
        "Data som kräver högpresterande transaktionskonsistens:\n",
        "\n",
        "Data som behöver stark konsistens och snabb transaktionshantering (som relationsdatabaser) är inte lämplig för Blob Storage. För sådana scenarier bör du använda en SQL-databas eller Azure Cosmos DB.\n",
        "\n",
        "Högt strukturerad data:\n",
        "\n",
        "Högt strukturerad data, som tabeller med komplexa relationer, är inte idealisk för Blob Storage. Du kan lagra CSV- eller JSON-filer som representerar strukturerad data, men verklig relationsdata bör lagras i en SQL-databas eller en liknande tjänst.\n",
        "\n",
        "Data som kräver frekventa uppdateringar:\n",
        "\n",
        "Blob Storage är optimerat för att lagra stora mängder ostrukturerad data som läses eller skrivs i bulk, snarare än små delar av data som uppdateras ofta. För scenarier där data ofta uppdateras eller modifieras, är Azure Files eller Azure SQL Database mer lämpliga.\n",
        "\n",
        "Exempel på datatyper som inte passar för Blob Storage:\n",
        "\n",
        "Transaktionsdatabaser: Använd SQL-databas istället för Blob Storage.\n",
        "\n",
        "Små delar av strukturerad data: Använd Azure Tables eller Cosmos DB istället.\n",
        "\n",
        "Data som kräver komplexa frågningar och indexering: Använd en relationsdatabas för mer komplexa frågor.\n",
        "\n",
        "Blob Storage är optimerat för ostrukturerad data som bilder, videor, säkerhetskopior eller loggfiler, men inte för strukturerad, transaktionell eller ofta uppdaterad data.\n",
        "\n",
        "\n",
        "\n",
        "\n",
        "\n",
        "\n",
        "\n"
      ]
    },
    {
      "cell_type": "markdown",
      "metadata": {},
      "source": [
        "❓ What kind of data shouldn't be stored as a blob?"
      ]
    },
    {
      "cell_type": "markdown",
      "metadata": {},
      "source": [
        "✔️ Answer:\n"
      ]
    },
    {
      "cell_type": "markdown",
      "metadata": {},
      "source": [
        "Blob Storage är bra för ostrukturerad data som bilder, videor, loggfiler, säkerhetskopior och andra stora objekt, men det är inte lämpligt för transaktionsbaserad, strukturerad eller ofta uppdaterad data. För dessa typer av data bör du använda tjänster som SQL-databaser, Azure Files eller Azure Cosmos DB beroende på behoven."
      ]
    },
    {
      "cell_type": "markdown",
      "metadata": {},
      "source": [
        "---\n",
        "## Integrate data with Azure Data Factory or Azure Synapse Pipeline\n",
        "### Understand Azure Data Factory"
      ]
    },
    {
      "cell_type": "markdown",
      "metadata": {},
      "source": [
        "❓ Which part of the symphony orchestra does Azure Data Factory play, according to the analogy?"
      ]
    },
    {
      "cell_type": "markdown",
      "metadata": {},
      "source": [
        "✔️ Answer:\n"
      ]
    },
    {
      "cell_type": "markdown",
      "metadata": {},
      "source": [
        "I en analogi där en symfoniorkester används för att förklara olika delar av Azure Data Factory, kan Azure Data Factory liknas vid dirigenten.\n",
        "\n",
        "Precis som dirigenten styr och koordinerar musikerna i orkestern för att säkerställa att alla delar spelar i harmoni, styr Azure Data Factory hela dataintegrationsprocessen och koordinerar olika dataflöden mellan olika datakällor, så att data kan samlas, transformeras och laddas på rätt sätt i måldatabaser eller lagringssystem.\n",
        "\n"
      ]
    },
    {
      "cell_type": "markdown",
      "metadata": {},
      "source": [
        "#### Describe data integration patterns"
      ]
    },
    {
      "cell_type": "markdown",
      "metadata": {},
      "source": [
        "❓ What does ETL stand for?"
      ]
    },
    {
      "cell_type": "markdown",
      "metadata": {},
      "source": [
        "✔️ Answer:\n"
      ]
    },
    {
      "cell_type": "markdown",
      "metadata": {},
      "source": [
        "ETL står för Extract, Transform and Load, vilket beskriver processen för att hantera och bearbeta data från olika källor innan det laddas in i ett datalager eller en databas.\n",
        "\n",
        "Extract (Extrahera): Data hämtas från olika källor, som databaser, API:er eller filsystem.\n",
        "\n",
        "Transform (Transformera): Data omformas, rensas och konverteras för att passa måldatabasen eller datalagrets struktur och format.\n",
        "\n",
        "Load (Ladda): Den transformerade datan laddas in i måldatabasen eller datalagret för vidare analys eller rapportering.\n",
        "\n",
        "ETL-processen används ofta i datahanteringssystem för att integrera och förbereda data för analys och beslutsfattande.\n",
        "\n",
        "\n",
        "\n",
        "\n",
        "\n",
        "\n",
        "\n",
        "\n",
        "\n"
      ]
    },
    {
      "cell_type": "markdown",
      "metadata": {},
      "source": [
        "❓ What does ELT stand for?"
      ]
    },
    {
      "cell_type": "markdown",
      "metadata": {},
      "source": [
        "✔️ Answer:\n"
      ]
    },
    {
      "cell_type": "markdown",
      "metadata": {},
      "source": [
        "ELT står för Extract, Load, Transform, vilket är en variant av ETL-processen. \n",
        "Varje steg innebär:\n",
        "\n",
        "Extract (Extrahera): Data hämtas från olika källor, såsom databaser, API:er eller filsystem.\n",
        "\n",
        "Load (Ladda): Data laddas direkt till måldatabasen eller datalagret utan att transformeras först.\n",
        "\n",
        "Transform (Transformera): Efter att data har laddats in i målsystemet, transformeras och bearbetas det för att passa de specifika analyserna eller rapporteringsbehoven.\n",
        "\n",
        "I ELT-processen sker transformationen av data efter att det redan har laddats, vilket gör processen mer flexibel och snabbare, särskilt när man arbetar med stora datamängder i moderna datalager som Azure Synapse Analytics eller Google BigQuery.\n",
        "\n",
        "\n",
        "\n",
        "\n",
        "\n",
        "\n",
        "\n"
      ]
    },
    {
      "cell_type": "markdown",
      "metadata": {},
      "source": [
        "❓ What is the difference between ETL and ELT?"
      ]
    },
    {
      "cell_type": "markdown",
      "metadata": {},
      "source": [
        "✔️ Answer:\n"
      ]
    },
    {
      "cell_type": "markdown",
      "metadata": {},
      "source": [
        "Skillnaden mellan ETL (Extract, Transform, Load) och ELT (Extract, Load, Transform) ligger i ordningen och processen för datahantering.\n",
        "\n",
        "1. ETL (Extract, Transform, Load): används när man vill utföra komplexa transformationer innan data laddas i målsystemet. Det är vanligt när man använder äldre datalager eller databaser med begränsade beräkningsresurser för datatransformationer.\n",
        "\n",
        "2. ELT (Extract, Load, Transform): Används när man  använder moderna datalager eller molnbaserade lösningar (som Azure Synapse Analytics, Google BigQuery, Amazon Redshift) som har kraftfulla beräkningsresurser för att utföra transformationer på redan laddad data.\n",
        "\n",
        "I ETL transformeras data innan det laddas in i målsystemet, medan i ELT laddas data in i målsystemet först och transformeras därefter.\n",
        "\n",
        "ETL kan vara mer tidskrävande för stora datamängder eftersom all bearbetning sker innan laddning, medan ELT kan vara snabbare eftersom den stora bearbetningen sker efter laddningen, vilket gör det mer effektivt med moderna datalager och databehandling.\n",
        "\n",
        "\n",
        "\n",
        "\n",
        "\n",
        "\n",
        "\n"
      ]
    },
    {
      "cell_type": "markdown",
      "metadata": {},
      "source": [
        "#### Create Data Factory activities and pipelines"
      ]
    },
    {
      "cell_type": "markdown",
      "metadata": {},
      "source": [
        "❓ Which are the three categories of Azure Data factory activities?"
      ]
    },
    {
      "cell_type": "markdown",
      "metadata": {},
      "source": [
        "✔️ Answer:\n"
      ]
    },
    {
      "cell_type": "markdown",
      "metadata": {},
      "source": [
        "I Azure Data Factory delas aktiviteter in i tre huvudkategorier:\n",
        "\n",
        "Data Movement Activities (Datatransportaktiviteter): Används för att kopiera data mellan olika källor och målsystem.\n",
        "\n",
        "\n",
        "Data Transformation Activities (Datatransformationsaktiviteter): Används för att omvandla och bearbeta data innan det lagras i målsystemet. \n",
        "\n",
        "\n",
        "Control Flow Activities (Kontrollflödesaktiviteter): Används för att styra och orkestrera arbetsflödet i en pipeline.\n",
        "\n",
        "\n",
        "Dessa tre kategorier gör det möjligt att bygga flexibla och effektiva dataflöden i Azure Data Factory för ETL/ELT-processer och dataorkestrering. 🚀\n",
        "\n",
        "\n",
        "\n",
        "\n",
        "\n",
        "\n",
        "\n",
        "\n"
      ]
    },
    {
      "cell_type": "markdown",
      "metadata": {},
      "source": [
        "---\n",
        "## Large-scale data processing with Azure Data Lake Storage Gen2\n",
        "### Introduction to Azure Data Lake Storage Gen2\n",
        "#### Understand Azure Data Lake Storage Gen2"
      ]
    },
    {
      "cell_type": "markdown",
      "metadata": {},
      "source": [
        "❓ Which format is data stored in in a data lake?"
      ]
    },
    {
      "cell_type": "markdown",
      "metadata": {},
      "source": [
        "✔️ Answer:\n"
      ]
    },
    {
      "cell_type": "markdown",
      "metadata": {},
      "source": [
        "I en Data Lake lagras data vanligtvis i råformat (raw format) och kan vara ostrukturerad, semi-strukturerad eller strukturerad. De vanligaste filformaten inkluderar:\n",
        "\n",
        "Ostrukturerad data:\n",
        "\n",
        "Textfiler (t.ex. .txt, .log)\n",
        "Bilder och videor (t.ex. .jpg, .png, .mp4)\n",
        "PDF-filer (t.ex. .pdf)\n",
        "\n",
        "Semi-strukturerad data:\n",
        "\n",
        "JSON (.json) – Vanligt för API-data och NoSQL-lösningar.\n",
        "XML (.xml) – Används ofta för konfigurationsfiler och datautbyte.\n",
        "CSV (.csv) – Enklare tabellbaserat format, vanligt för dataexport.\n",
        "Parquet (.parquet) – Kolumnbaserat format, optimerat för analys.\n",
        "Avro (.avro) – Binärt format för effektiv lagring och överföring.\n",
        "ORC (.orc) – Optimerat för snabba analyser i Big Data-miljöer.\n",
        "\n",
        "Strukturerad data:\n",
        "\n",
        "Data kan lagras i relationsdatabaser eller som strukturerade tabellfiler i format som Parquet, ORC och Avro."
      ]
    },
    {
      "cell_type": "markdown",
      "metadata": {},
      "source": [
        "❓ Which factors should influence the planning of a data lake?"
      ]
    },
    {
      "cell_type": "markdown",
      "metadata": {},
      "source": [
        "✔️ Answer:\n"
      ]
    },
    {
      "cell_type": "markdown",
      "metadata": {},
      "source": [
        "Vid planering av en data lake bör en dataingenjör noggrant överväga struktur, datastyrning och säkerhet. Detta bör inkludera hänsyn till faktorer som kan påverka lake-strukturen och organiseringen, såsom:\n",
        "\n",
        "Vilka typer av data som ska lagras?\n",
        "\n",
        "Hur data kommer att transformeras?\n",
        "\n",
        "\n",
        "Vem som ska ha åtkomst till datan?\n",
        "\n",
        "Vilka de typiska åtkomstmönstren är\n",
        "\n",
        "\n",
        "\n",
        "\n",
        "\n",
        "\n"
      ]
    },
    {
      "cell_type": "markdown",
      "metadata": {},
      "source": [
        "#### Enable Azure Data Lake storage Gen2 in Azure Storage"
      ]
    },
    {
      "cell_type": "markdown",
      "metadata": {},
      "source": [
        "❓ What is the name of the option that enables Azure Data Lake Storage Gen2?"
      ]
    },
    {
      "cell_type": "markdown",
      "metadata": {},
      "source": [
        "✔️ Answer:\n"
      ]
    },
    {
      "cell_type": "markdown",
      "metadata": {},
      "source": [
        "För att aktivera Azure Data Lake Storage Gen2 i ett Azure Storage-konto kan du välja alternativet \"Aktivera hierarkiskt namnutrymme\" på fliken Avancerat när du skapar lagringskontot i Azure-portalen."
      ]
    },
    {
      "cell_type": "markdown",
      "metadata": {},
      "source": [
        "#### Compare Azure Data Lake Storage and Azure Blob storage"
      ]
    },
    {
      "cell_type": "markdown",
      "metadata": {},
      "source": [
        "❓ What is the main difference between Azure Data Lake Storage and Azure Blob storage?"
      ]
    },
    {
      "cell_type": "markdown",
      "metadata": {},
      "source": [
        "✔️ Answer:\n"
      ]
    },
    {
      "cell_type": "markdown",
      "metadata": {},
      "source": [
        "Den huvudsakliga skillnaden mellan Azure Data Lake Storage (ADLS) och Azure Blob Storage ligger i datastyrning, hantering och optimering för analys.\n",
        "\n",
        "Azure Blob Storage\n",
        "\n",
        "Objektlagring: Designad för att lagra ostrukturerad data såsom bilder, videor, dokument och säkerhetskopior.\n",
        "\n",
        "Flat Namespace: Ingen mappstruktur, alla filer ligger i en container (simulerade mappar används via prefix).\n",
        "\n",
        "Användningsfall: Lagring av media, säkerhetskopior, loggar, webbplatsfiler och andra ostrukturerade data.\n",
        "\n",
        "Azure Data Lake Storage (ADLS Gen2)\n",
        "\n",
        "Optimerad för Big Data och analys: Bygger på Azure Blob Storage men har extra funktioner för analys och databehandling.\n",
        "\n",
        "Hierarchical Namespace: Tillåter äkta mappar och filhantering, vilket förbättrar prestanda och möjliggör mer effektiv datahantering.\n",
        "\n",
        "Stöd för ACL och avancerade behörigheter: Ger mer detaljerad åtkomstkontroll än vanlig blob-lagring.\n",
        "Användningsfall: Big Data, Machine Learning, AI, logganalys, datalager och andra analytiska lösningar.\n"
      ]
    },
    {
      "cell_type": "markdown",
      "metadata": {},
      "source": [
        "❓ What kind of storage account should you use to store website assets such as images and videos?"
      ]
    },
    {
      "cell_type": "markdown",
      "metadata": {},
      "source": [
        "✔️ Answer:\n"
      ]
    },
    {
      "cell_type": "markdown",
      "metadata": {},
      "source": [
        "För att lagra webbplatsresurser såsom bilder och videor bör du använda ett General-purpose v2 Storage Account med Azure Blob Storage.\n",
        "\n"
      ]
    },
    {
      "cell_type": "markdown",
      "metadata": {},
      "source": [
        "❓ What kind of storage account should you use to store data that you wih to perform analytics on?"
      ]
    },
    {
      "cell_type": "markdown",
      "metadata": {},
      "source": [
        "✔️ Answer:\n"
      ]
    },
    {
      "cell_type": "markdown",
      "metadata": {},
      "source": [
        "För att lagra data som du vill utföra analyser på, bör du använda ett Azure Data Lake Storage Gen2-konto eller ett General-purpose v2 Storage Account med Azure Blob Storage, beroende på dina behov.\n",
        "\n",
        "1. Azure Data Lake Storage Gen2:\n",
        "Om du har att göra med stora datamängder för Big Data, maskininlärning eller AI, och behöver avancerade funktioner för datalagring och analys, är Azure Data Lake Storage Gen2 det bästa valet.\n",
        "\n",
        "Fördelar:\n",
        "Optimerad för storskalig databehandling och analys\n",
        "\n",
        "Hierarchical Namespace för bättre hantering av filer och mappar\n",
        "\n",
        "Stöd för avancerade behörigheter (ACL) och datastyrning\n",
        "\n",
        "Stöd för format som Parquet, ORC, Avro, JSON, CSV, vilket är idealiskt för analytiska arbetsflöden\n",
        "\n",
        "Integrering med Azure Synapse Analytics, Azure Databricks och HDInsight för analys\n",
        "\n",
        "2. General-purpose v2 Storage Account (Azure Blob Storage):\n",
        "Om du arbetar med strukturerad eller semi-strukturerad data och behöver en enklare lösning för datalagring och grundläggande analyser, kan ett General-purpose v2 Storage Account vara tillräckligt.\n",
        "\n",
        "Fördelar:\n",
        "Förråd för både strukturerad och semi-strukturerad data\n",
        "\n",
        "Support för CSV, JSON, och Parquet-filer\n",
        "\n",
        "Enkel att hantera för data som inte kräver avancerad analys\n",
        "\n",
        "\n",
        "Billigare alternativ för enklare analysbehov\n"
      ]
    },
    {
      "cell_type": "markdown",
      "metadata": {},
      "source": [
        "#### Use Azure Data Lake Storage Gen2 in data analytics workloads"
      ]
    },
    {
      "cell_type": "markdown",
      "metadata": {},
      "source": [
        "❓ What are the three \"v's\" that are involved when processing big data?"
      ]
    },
    {
      "cell_type": "markdown",
      "metadata": {},
      "source": [
        "✔️ Answer:\n"
      ]
    },
    {
      "cell_type": "markdown",
      "metadata": {},
      "source": [
        "De tre \"V:na\" som är centrala när det gäller att bearbeta Big Data är:\n",
        "\n",
        "1. Volume (Volym) som eskriver mängden data som behöver bearbetas.\n",
        "\n",
        "Big Data innebär vanligtvis gigantiska datamängder som kan vara terabyte eller petabyte stora.\n",
        "\n",
        "Exempel: Företag kan samla in stora mängder data från användare, sensorer, eller sociala medier.\n",
        "\n",
        "2. Velocity (Hastighet) som beskriver hastigheten med vilken data genereras, bearbetas och analyseras.\n",
        "\n",
        "Big Data kräver ofta real-time eller nästan real-time bearbetning för att dra nytta av data så snabbt som möjligt.\n",
        "\n",
        "Exempel: Data från IoT-enheter eller webbplatsbesök som måste analyseras och reageras på i realtid.\n",
        "\n",
        "3. Variety (Variation) som beskriver olika typer av data som samlas in, t.ex. strukturerad, semi-strukturerad och ostrukturerad data.\n",
        "\n",
        "Big Data kan inkludera en blandning av text, bilder, ljud, videor, loggar, och andra typer av data som inte passar in i traditionella databaser.\n",
        "\n",
        "\n",
        "Exempel: Data från sociala medier, sensorer, och företagsapplikationer som kan ha olika format och strukturer.\n"
      ]
    }
  ],
  "metadata": {
    "kernelspec": {
      "display_name": "Python 3 (ipykernel)",
      "language": "python",
      "name": "python3",
      "path": "/home/linus/.local/share/jupyter/kernels/python3"
    }
  },
  "nbformat": 4,
  "nbformat_minor": 4
}
